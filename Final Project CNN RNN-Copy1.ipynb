{
 "cells": [
  {
   "cell_type": "markdown",
   "id": "6e92d2c4",
   "metadata": {},
   "source": [
    "# Video Classification using CNN-RNN Model"
   ]
  },
  {
   "cell_type": "markdown",
   "id": "b1f339aa",
   "metadata": {},
   "source": [
    "## Contents\n",
    "\n",
    "**1. Importing Libraries**\\\n",
    "**2. About the Data**\\\n",
    "**3. Imporitng Data**\\\n",
    "**4. Processing Data**\\\n",
    "**5. Exploratory Data Analysis**\\\n",
    "        (a) Anaysis\\\n",
    "**6. Helper Functions**\\\n",
    "        (a) Video Loader\\\n",
    "        (b) Feature Extractor\\\n",
    "        (c) Label Encdoer\\\n",
    "**7. Convolutional Nueral Network**\\\n",
    "**8. Recurrent Nueral Network**\\\n",
    "**9. Model Training**\\\n",
    "    (a) RNN GRU\\\n",
    "    (b) RNN LSTM\\\n",
    "**10. Model Test Results**\\\n",
    "    (a) GRU\\\n",
    "    (b) LSTM\\\n",
    "**11. CNN Extractor Tweaking**\\\n",
    "    (a) resnet50\\\n",
    "    (b) inception_v3\\\n",
    "**12. Results & Analysis**\\\n",
    "    (a) RNN Model Architecture Comparison\\\n",
    "    (b) CNN Model Architecture Comparison\\\n",
    "    (c) Optimizer Selection\\\n",
    "    (d) Hyperparameter Tweaking\\\n",
    "    (e) Analysis\\\n",
    "**13. Conclusion**\\\n",
    "**14. References**"
   ]
  },
  {
   "cell_type": "markdown",
   "id": "d62a3be0",
   "metadata": {},
   "source": [
    "## 1. Importing Libraries"
   ]
  },
  {
   "cell_type": "code",
   "execution_count": 10,
   "id": "020241dd",
   "metadata": {},
   "outputs": [],
   "source": [
    "from PIL import Image\n",
    "import numpy as np\n",
    "import matplotlib.pyplot as plt\n",
    "import cv2\n",
    "import os\n",
    "import pandas as pd\n",
    "import matplotlib"
   ]
  },
  {
   "cell_type": "code",
   "execution_count": 25,
   "id": "113f86f0",
   "metadata": {},
   "outputs": [],
   "source": [
    "from imutils import paths\n",
    "import tensorflow as tf\n",
    "import imageio\n",
    "from tensorflow.keras import applications\n",
    "from tensorflow import keras\n",
    "from sklearn.preprocessing import LabelEncoder\n",
    "from keras.layers import GRU, Dropout, Dense , LSTM\n",
    "from keras.callbacks import CSVLogger\n",
    "from IPython.display import Video"
   ]
  },
  {
   "cell_type": "markdown",
   "id": "cbf89ebc",
   "metadata": {},
   "source": [
    "## 2. About the Data"
   ]
  },
  {
   "cell_type": "markdown",
   "id": "72cc1329",
   "metadata": {},
   "source": [
    "With the ever increasing reach and usage of social websites, it has become quite easy to share videos on different platforms like 'Youtube','DailyMotion','vimeo','facebook, 'instagram','twitter' and many more. Along this, it has also become quite important categorize the videos for various purposes such as tagging for recommendations and even assisting in removing possible unauthorized content. For all these purposes, \"Video Classification\" has become extremely important and in order to go through huge volumes of data, these is an evermore need for automation in this regard. \n",
    "\n",
    "The dataset was taken from the website: https://www.crcv.ucf.edu/data/UCF_Sports_Action.php and has been attributed to two papers that are lsited as follows:\n",
    "\n",
    "1. Mikel D. Rodriguez, Javed Ahmed, and Mubarak Shah, Action MACH: A Spatio-temporal Maximum Average Correlation Height Filter for Action Recognition, Computer Vision and Pattern Recognition, 2008.\n",
    "\n",
    "2. Khurram Soomro and Amir R. Zamir, Action Recognition in Realistic Sports Videos, Computer Vision in Sports. Springer International Publishing, 2014.\n",
    "\n",
    "The dataset contained a total of **13 listed sports actions** with some videos denoting the same action but at different stages like 'golf forward swing' and 'gold rear swing'. Such actions were accumated into a single folder due to very close similarity which might have reduced model accuracy towards the end result. A total of **139 videos** were used in **.avi** format having a pixel quality of **720 x 480.** A total of 9 videos were taken from different categories were taken and seperated for the testing purposes. we will attempt to classify any given video by passing it through our model which would be a combination of Convolutional Neural Network and Recurrent Neural Network to correctly classify them depending on the action being performed by the person. "
   ]
  },
  {
   "cell_type": "markdown",
   "id": "e5e9e50a",
   "metadata": {},
   "source": [
    "## 3. Importing Data"
   ]
  },
  {
   "cell_type": "code",
   "execution_count": 12,
   "id": "9e8d9e83",
   "metadata": {},
   "outputs": [],
   "source": [
    "train_path = os.listdir(r\"Data/Train\")\n",
    "test_path = os.listdir(r\"Data/test\")"
   ]
  },
  {
   "cell_type": "code",
   "execution_count": 13,
   "id": "1c0cc6bc",
   "metadata": {},
   "outputs": [
    {
     "data": {
      "text/plain": [
       "['Diving-Side',\n",
       " 'Golf-Swing',\n",
       " 'Kicking',\n",
       " 'Lifting',\n",
       " 'Riding-Horse',\n",
       " 'Run-Side',\n",
       " 'SkateBoarding',\n",
       " 'Swing',\n",
       " 'Walk-Front']"
      ]
     },
     "execution_count": 13,
     "metadata": {},
     "output_type": "execute_result"
    }
   ],
   "source": [
    "train_path"
   ]
  },
  {
   "cell_type": "code",
   "execution_count": 14,
   "id": "9ffba75d",
   "metadata": {},
   "outputs": [
    {
     "data": {
      "text/plain": [
       "['Diving-Side',\n",
       " 'Golf-Swing',\n",
       " 'Kicking',\n",
       " 'Lifting',\n",
       " 'Riding-Horse',\n",
       " 'Run-Side',\n",
       " 'SkateBoarding',\n",
       " 'Swing',\n",
       " 'Walk-Front']"
      ]
     },
     "execution_count": 14,
     "metadata": {},
     "output_type": "execute_result"
    }
   ],
   "source": [
    "test_path"
   ]
  },
  {
   "cell_type": "code",
   "execution_count": 15,
   "id": "e7e451b7",
   "metadata": {},
   "outputs": [
    {
     "data": {
      "text/plain": [
       "(9, 9)"
      ]
     },
     "execution_count": 15,
     "metadata": {},
     "output_type": "execute_result"
    }
   ],
   "source": [
    "len(train_path) , len(test_path)"
   ]
  },
  {
   "cell_type": "markdown",
   "id": "6531d1f1",
   "metadata": {},
   "source": [
    "## 4. Processing Data"
   ]
  },
  {
   "cell_type": "markdown",
   "id": "1b37373a",
   "metadata": {},
   "source": [
    "Now, what we need to do is organize our training and test data into a csv with 2 columns such that the name / ID of the video is present against the label with respect to that video. To do this we will iterate over all the videos sequentially and store them in lists before joining the two lists to make a single dataframe."
   ]
  },
  {
   "cell_type": "code",
   "execution_count": 16,
   "id": "50cf4b1e",
   "metadata": {},
   "outputs": [],
   "source": [
    "train_labels = []\n",
    "train_video_ID = []\n",
    "\n",
    "for i in range(len(train_path)):\n",
    "    \n",
    "    temp_path = os.path.join(r\"Data\\Train\" , train_path[i])\n",
    "    for j in range(len(os.listdir(temp_path))):\n",
    "        \n",
    "        train_labels.append(train_path[i])\n",
    "        \n",
    "        name = os.path.join(temp_path , os.listdir(temp_path)[j])\n",
    "        \n",
    "        train_video_ID.append(name)"
   ]
  },
  {
   "cell_type": "code",
   "execution_count": 17,
   "id": "8a31a6e4",
   "metadata": {},
   "outputs": [],
   "source": [
    "test_labels = []\n",
    "test_video_ID = []\n",
    "\n",
    "for i in range(len(test_path)):\n",
    "    \n",
    "    temp_path = os.path.join(r\"Data\\Test\" , test_path[i])\n",
    "    \n",
    "    for j in range(len(os.listdir(temp_path))):\n",
    "        \n",
    "        test_labels.append(test_path[i])\n",
    "        \n",
    "        name = os.path.join(temp_path , os.listdir(temp_path)[j])        \n",
    "        test_video_ID.append(name)"
   ]
  },
  {
   "cell_type": "code",
   "execution_count": 18,
   "id": "ae436064",
   "metadata": {},
   "outputs": [],
   "source": [
    "data_train = list(zip(train_video_ID , train_labels))\n",
    "df_train = pd.DataFrame(data_train, columns = ['video_name', 'Label'])\n",
    "\n",
    "data_test = list(zip(test_video_ID , test_labels))\n",
    "df_test = pd.DataFrame(data_test, columns = ['video_name', 'Label'])"
   ]
  },
  {
   "cell_type": "code",
   "execution_count": 19,
   "id": "ddc3c28f",
   "metadata": {},
   "outputs": [
    {
     "data": {
      "text/html": [
       "<div>\n",
       "<style scoped>\n",
       "    .dataframe tbody tr th:only-of-type {\n",
       "        vertical-align: middle;\n",
       "    }\n",
       "\n",
       "    .dataframe tbody tr th {\n",
       "        vertical-align: top;\n",
       "    }\n",
       "\n",
       "    .dataframe thead th {\n",
       "        text-align: right;\n",
       "    }\n",
       "</style>\n",
       "<table border=\"1\" class=\"dataframe\">\n",
       "  <thead>\n",
       "    <tr style=\"text-align: right;\">\n",
       "      <th></th>\n",
       "      <th>video_name</th>\n",
       "      <th>Label</th>\n",
       "    </tr>\n",
       "  </thead>\n",
       "  <tbody>\n",
       "    <tr>\n",
       "      <th>0</th>\n",
       "      <td>Data\\Train\\Diving-Side\\2538-11_70015.avi</td>\n",
       "      <td>Diving-Side</td>\n",
       "    </tr>\n",
       "    <tr>\n",
       "      <th>1</th>\n",
       "      <td>Data\\Train\\Diving-Side\\2538-12_70246.avi</td>\n",
       "      <td>Diving-Side</td>\n",
       "    </tr>\n",
       "    <tr>\n",
       "      <th>2</th>\n",
       "      <td>Data\\Train\\Diving-Side\\2538-16_70032.avi</td>\n",
       "      <td>Diving-Side</td>\n",
       "    </tr>\n",
       "    <tr>\n",
       "      <th>3</th>\n",
       "      <td>Data\\Train\\Diving-Side\\4475-1_70541.avi</td>\n",
       "      <td>Diving-Side</td>\n",
       "    </tr>\n",
       "    <tr>\n",
       "      <th>4</th>\n",
       "      <td>Data\\Train\\Diving-Side\\4475-2_70045.avi</td>\n",
       "      <td>Diving-Side</td>\n",
       "    </tr>\n",
       "    <tr>\n",
       "      <th>...</th>\n",
       "      <td>...</td>\n",
       "      <td>...</td>\n",
       "    </tr>\n",
       "    <tr>\n",
       "      <th>125</th>\n",
       "      <td>Data\\Train\\Walk-Front\\RF1-18566_700411.avi</td>\n",
       "      <td>Walk-Front</td>\n",
       "    </tr>\n",
       "    <tr>\n",
       "      <th>126</th>\n",
       "      <td>Data\\Train\\Walk-Front\\RF1-18566_700560.avi</td>\n",
       "      <td>Walk-Front</td>\n",
       "    </tr>\n",
       "    <tr>\n",
       "      <th>127</th>\n",
       "      <td>Data\\Train\\Walk-Front\\RF1-18598_70075.avi</td>\n",
       "      <td>Walk-Front</td>\n",
       "    </tr>\n",
       "    <tr>\n",
       "      <th>128</th>\n",
       "      <td>Data\\Train\\Walk-Front\\RF1-18598_70530.avi</td>\n",
       "      <td>Walk-Front</td>\n",
       "    </tr>\n",
       "    <tr>\n",
       "      <th>129</th>\n",
       "      <td>Data\\Train\\Walk-Front\\RF1-18602_70140.avi</td>\n",
       "      <td>Walk-Front</td>\n",
       "    </tr>\n",
       "  </tbody>\n",
       "</table>\n",
       "<p>130 rows × 2 columns</p>\n",
       "</div>"
      ],
      "text/plain": [
       "                                     video_name        Label\n",
       "0      Data\\Train\\Diving-Side\\2538-11_70015.avi  Diving-Side\n",
       "1      Data\\Train\\Diving-Side\\2538-12_70246.avi  Diving-Side\n",
       "2      Data\\Train\\Diving-Side\\2538-16_70032.avi  Diving-Side\n",
       "3       Data\\Train\\Diving-Side\\4475-1_70541.avi  Diving-Side\n",
       "4       Data\\Train\\Diving-Side\\4475-2_70045.avi  Diving-Side\n",
       "..                                          ...          ...\n",
       "125  Data\\Train\\Walk-Front\\RF1-18566_700411.avi   Walk-Front\n",
       "126  Data\\Train\\Walk-Front\\RF1-18566_700560.avi   Walk-Front\n",
       "127   Data\\Train\\Walk-Front\\RF1-18598_70075.avi   Walk-Front\n",
       "128   Data\\Train\\Walk-Front\\RF1-18598_70530.avi   Walk-Front\n",
       "129   Data\\Train\\Walk-Front\\RF1-18602_70140.avi   Walk-Front\n",
       "\n",
       "[130 rows x 2 columns]"
      ]
     },
     "execution_count": 19,
     "metadata": {},
     "output_type": "execute_result"
    }
   ],
   "source": [
    "df_train"
   ]
  },
  {
   "cell_type": "code",
   "execution_count": 20,
   "id": "f72fb6a1",
   "metadata": {},
   "outputs": [
    {
     "data": {
      "text/html": [
       "<div>\n",
       "<style scoped>\n",
       "    .dataframe tbody tr th:only-of-type {\n",
       "        vertical-align: middle;\n",
       "    }\n",
       "\n",
       "    .dataframe tbody tr th {\n",
       "        vertical-align: top;\n",
       "    }\n",
       "\n",
       "    .dataframe thead th {\n",
       "        text-align: right;\n",
       "    }\n",
       "</style>\n",
       "<table border=\"1\" class=\"dataframe\">\n",
       "  <thead>\n",
       "    <tr style=\"text-align: right;\">\n",
       "      <th></th>\n",
       "      <th>video_name</th>\n",
       "      <th>Label</th>\n",
       "    </tr>\n",
       "  </thead>\n",
       "  <tbody>\n",
       "    <tr>\n",
       "      <th>0</th>\n",
       "      <td>Data\\Test\\Diving-Side\\2538-5_70133.avi</td>\n",
       "      <td>Diving-Side</td>\n",
       "    </tr>\n",
       "    <tr>\n",
       "      <th>1</th>\n",
       "      <td>Data\\Test\\Golf-Swing\\3283-8_700741.avi</td>\n",
       "      <td>Golf-Swing</td>\n",
       "    </tr>\n",
       "    <tr>\n",
       "      <th>2</th>\n",
       "      <td>Data\\Test\\Golf-Swing\\7603-4_70159.avi</td>\n",
       "      <td>Golf-Swing</td>\n",
       "    </tr>\n",
       "    <tr>\n",
       "      <th>3</th>\n",
       "      <td>Data\\Test\\Golf-Swing\\RF1-13207_7015.avi</td>\n",
       "      <td>Golf-Swing</td>\n",
       "    </tr>\n",
       "    <tr>\n",
       "      <th>4</th>\n",
       "      <td>Data\\Test\\Kicking\\3833-15_70577.avi</td>\n",
       "      <td>Kicking</td>\n",
       "    </tr>\n",
       "    <tr>\n",
       "      <th>5</th>\n",
       "      <td>Data\\Test\\Kicking\\778-62_l146.avi</td>\n",
       "      <td>Kicking</td>\n",
       "    </tr>\n",
       "    <tr>\n",
       "      <th>6</th>\n",
       "      <td>Data\\Test\\Lifting\\3528-8_70514.avi</td>\n",
       "      <td>Lifting</td>\n",
       "    </tr>\n",
       "    <tr>\n",
       "      <th>7</th>\n",
       "      <td>Data\\Test\\Riding-Horse\\4456-16_700040.avi</td>\n",
       "      <td>Riding-Horse</td>\n",
       "    </tr>\n",
       "    <tr>\n",
       "      <th>8</th>\n",
       "      <td>Data\\Test\\Run-Side\\2670-5_70111.avi</td>\n",
       "      <td>Run-Side</td>\n",
       "    </tr>\n",
       "    <tr>\n",
       "      <th>9</th>\n",
       "      <td>Data\\Test\\SkateBoarding\\708-75070.avi</td>\n",
       "      <td>SkateBoarding</td>\n",
       "    </tr>\n",
       "    <tr>\n",
       "      <th>10</th>\n",
       "      <td>Data\\Test\\Swing\\669-60084.avi</td>\n",
       "      <td>Swing</td>\n",
       "    </tr>\n",
       "    <tr>\n",
       "      <th>11</th>\n",
       "      <td>Data\\Test\\Swing\\vid1_0117.avi</td>\n",
       "      <td>Swing</td>\n",
       "    </tr>\n",
       "    <tr>\n",
       "      <th>12</th>\n",
       "      <td>Data\\Test\\Walk-Front\\3206-12_70000.avi</td>\n",
       "      <td>Walk-Front</td>\n",
       "    </tr>\n",
       "  </tbody>\n",
       "</table>\n",
       "</div>"
      ],
      "text/plain": [
       "                                   video_name          Label\n",
       "0      Data\\Test\\Diving-Side\\2538-5_70133.avi    Diving-Side\n",
       "1      Data\\Test\\Golf-Swing\\3283-8_700741.avi     Golf-Swing\n",
       "2       Data\\Test\\Golf-Swing\\7603-4_70159.avi     Golf-Swing\n",
       "3     Data\\Test\\Golf-Swing\\RF1-13207_7015.avi     Golf-Swing\n",
       "4         Data\\Test\\Kicking\\3833-15_70577.avi        Kicking\n",
       "5           Data\\Test\\Kicking\\778-62_l146.avi        Kicking\n",
       "6          Data\\Test\\Lifting\\3528-8_70514.avi        Lifting\n",
       "7   Data\\Test\\Riding-Horse\\4456-16_700040.avi   Riding-Horse\n",
       "8         Data\\Test\\Run-Side\\2670-5_70111.avi       Run-Side\n",
       "9       Data\\Test\\SkateBoarding\\708-75070.avi  SkateBoarding\n",
       "10              Data\\Test\\Swing\\669-60084.avi          Swing\n",
       "11              Data\\Test\\Swing\\vid1_0117.avi          Swing\n",
       "12     Data\\Test\\Walk-Front\\3206-12_70000.avi     Walk-Front"
      ]
     },
     "execution_count": 20,
     "metadata": {},
     "output_type": "execute_result"
    }
   ],
   "source": [
    "df_test"
   ]
  },
  {
   "cell_type": "markdown",
   "id": "7a04407d",
   "metadata": {},
   "source": [
    "The following is a sample video of a gymnast swinging. The video was converted to mp4 from avi since the .avi format was not working on the notebook. One thing to note here is that 'getty images' paint on the front is present in many videos which migh result in unnecessary noise compromising the model accuracy at a later stage."
   ]
  },
  {
   "cell_type": "code",
   "execution_count": 26,
   "id": "fa48fd3c",
   "metadata": {},
   "outputs": [
    {
     "data": {
      "text/html": [
       "<video src=\"test.mp4\" controls  >\n",
       "      Your browser does not support the <code>video</code> element.\n",
       "    </video>"
      ],
      "text/plain": [
       "<IPython.core.display.Video object>"
      ]
     },
     "execution_count": 26,
     "metadata": {},
     "output_type": "execute_result"
    }
   ],
   "source": [
    "Video(\"test.mp4\")"
   ]
  },
  {
   "cell_type": "markdown",
   "id": "356ad821",
   "metadata": {},
   "source": [
    "We won't need to resort to any further processing on the data since it is in the form of videos. We will design helper functions to extract the requisite information after we take an overlook on data itself in EDA."
   ]
  },
  {
   "cell_type": "markdown",
   "id": "7414866c",
   "metadata": {},
   "source": [
    "## 5. Exploratory Data Analysis"
   ]
  },
  {
   "cell_type": "code",
   "execution_count": 24,
   "id": "f814d62a",
   "metadata": {},
   "outputs": [],
   "source": [
    "font = {'size'   : 19}\n",
    "\n",
    "matplotlib.rc('font', **font)"
   ]
  },
  {
   "cell_type": "code",
   "execution_count": 27,
   "id": "cb3e7717",
   "metadata": {},
   "outputs": [],
   "source": [
    "## Train Data\n",
    "action = []\n",
    "no_of_clip = []\n",
    "\n",
    "for i in range(len(train_path)):\n",
    "    action.append(train_path[i])\n",
    "    \n",
    "    no_of_clip.append(len(os.listdir(os.path.join(r\"Data\\Train\" , \n",
    "                                               train_path[i]))))\n",
    "    "
   ]
  },
  {
   "cell_type": "code",
   "execution_count": 28,
   "id": "0328d6ea",
   "metadata": {},
   "outputs": [
    {
     "data": {
      "image/png": "[encoded data removed]",
      "text/plain": [
       "<Figure size 3200x1440 with 1 Axes>"
      ]
     },
     "metadata": {
      "needs_background": "light"
     },
     "output_type": "display_data"
    }
   ],
   "source": [
    "plt.figure(figsize=(40, 18), dpi=80)\n",
    "\n",
    "font1 = {'size':50}\n",
    "font2 = {'size':40}\n",
    "plt.bar(action,no_of_clip)\n",
    "plt.xlabel('Action Type', fontdict = font2)\n",
    "plt.ylabel('No of Videos', fontdict = font2)\n",
    "plt.title('Action vs No of Videos', fontdict = font1)\n",
    "plt.show()"
   ]
  },
  {
   "cell_type": "markdown",
   "id": "ba29db5b",
   "metadata": {},
   "source": [
    "**(a) Analysis**\n",
    "\n",
    "We can see from the above results that our dataset is quite unbalanced. The skewness generated by certain actions such as 'swing' and 'walk front' might compromise our model results at a later stage. However, we will let these stay as they are and proceed further."
   ]
  },
  {
   "cell_type": "markdown",
   "id": "cad50fe3",
   "metadata": {},
   "source": [
    "## 6. Helper Functions for Pre-Processing"
   ]
  },
  {
   "cell_type": "markdown",
   "id": "9f4f50de",
   "metadata": {},
   "source": [
    "Each video is basically a collection of frames which are joined together in succession generating a smooth linked picture. Hence, we will need to convert these videos to first indivdual frames, extract the features from the frames before feeding them on to the sequence model or Recurrent Nueral Network. We will be using the following steps repeatedly so it is paramount that we have individual functions for them to reduce the redundancy.\n",
    "\n",
    "1. Convert Each Video to Frames\n",
    "2. Extracting Features from each Frame\n",
    "3. Label Encoding\n"
   ]
  },
  {
   "cell_type": "markdown",
   "id": "744f0aa9",
   "metadata": {},
   "source": [
    "**(a) Function to load a video and extract the frames**"
   ]
  },
  {
   "cell_type": "code",
   "execution_count": 29,
   "id": "a93bb8c1",
   "metadata": {},
   "outputs": [],
   "source": [
    "# Setting the Image size of each frame which is to be processed later\n",
    "image_size = 224\n",
    "\n",
    "\n",
    "def video_framing(path):\n",
    "    \n",
    "    vid = cv2.VideoCapture(path)\n",
    "    frames = []\n",
    "    \n",
    "    while True:\n",
    "        \n",
    "        # Capturing video frame by frame\n",
    "        ret , frame = vid.read()\n",
    "        \n",
    "        # If the video has ended, break the function\n",
    "        if not ret:\n",
    "            break\n",
    "        frame = cv2.resize(frame , (image_size , image_size))\n",
    "        frame = frame[:, :, [2, 1, 0]]\n",
    "        frames.append(frame)\n",
    "        \n",
    "        if len(frames) == 0:\n",
    "            break\n",
    "            \n",
    "    vid.release()\n",
    "    \n",
    "    return np.array(frames)"
   ]
  },
  {
   "cell_type": "markdown",
   "id": "0f290304",
   "metadata": {},
   "source": [
    "**(b) Function to extract Features(CNN)**"
   ]
  },
  {
   "cell_type": "code",
   "execution_count": 30,
   "id": "9338938e",
   "metadata": {},
   "outputs": [],
   "source": [
    "# ## Using he inceptionv3 model from keras as transfer learning technique to train the CNN portion\n",
    "feature_extractor = applications.VGG16(include_top = False ,weights=\"imagenet\", input_shape =(224,224,3),\n",
    "                                                    pooling = 'avg'  ) "
   ]
  },
  {
   "cell_type": "code",
   "execution_count": 31,
   "id": "a28ec389",
   "metadata": {},
   "outputs": [],
   "source": [
    "def extractor():\n",
    "    ## Using he xgg16 model from keras as transfer learning technique to train the CNN portion\n",
    "\n",
    "    prep = applications.vgg16.preprocess_input\n",
    "    \n",
    "    inputs = keras.Input((image_size , image_size , 3))\n",
    "    processed = prep(inputs)\n",
    "    \n",
    "    outputs = feature_extractor(processed)\n",
    "    return (keras.Model(inputs , outputs, name = 'feature_extractor'))\n",
    "\n",
    "extractor = extractor()"
   ]
  },
  {
   "cell_type": "markdown",
   "id": "f24bc380",
   "metadata": {},
   "source": [
    "**(c) Label Encoding**"
   ]
  },
  {
   "cell_type": "markdown",
   "id": "5209b1ef",
   "metadata": {},
   "source": [
    "Now, we would be designing a preprocessing layer which will be converting the labels into integers. This is important as it is vital for the model training with regard to the loss function that is 'sparse categorical entropy' which essentially requires all labels to be integers. To get this done, we will be using the StringLookUp in keras which would aslo enable us to re-extract the actual labels using the vocabulary() function. "
   ]
  },
  {
   "cell_type": "code",
   "execution_count": 32,
   "id": "5ff459bc",
   "metadata": {},
   "outputs": [],
   "source": [
    "## the following line creates a vocabulary of variables and the num_oov_indices set to 0\n",
    "## to remove the OOV token which would generate an unknown as well at the start\n",
    "enc_layer = keras.layers.StringLookup(vocabulary = df_train.Label.unique(), num_oov_indices=0)\n",
    "\n",
    "## Using the above encoder to generate the integers for training\n",
    "video_labels = enc_layer(df_train.Label.values[... , None] ).numpy()\n",
    "\n",
    "## Label encoding for test set\n",
    "video_labels_test = enc_layer(df_test.Label.values[... , None] ).numpy()"
   ]
  },
  {
   "cell_type": "markdown",
   "id": "156022ef",
   "metadata": {},
   "source": [
    "## 7. Convolutional Nueral Network"
   ]
  },
  {
   "cell_type": "markdown",
   "id": "596a8ba9",
   "metadata": {},
   "source": [
    "Now, using the helper function we desinged aboe, we will convert each video into frames i.e. a collection of pictures which we would then feed to our Convolutional model for features extraction."
   ]
  },
  {
   "cell_type": "code",
   "execution_count": 33,
   "id": "49aa7b50",
   "metadata": {},
   "outputs": [],
   "source": [
    "batch = 64\n",
    "num_features = 2048\n",
    "max_seq = 20"
   ]
  },
  {
   "cell_type": "markdown",
   "id": "a57ed741",
   "metadata": {},
   "source": [
    "We will be defining a function instead of following the layers without them since we will have to reuse the same method on multiple architectures and data sets. The steps involved in the following function are listed as follows:\n",
    "\n",
    "1. Initializing the feature matrix to zeros\n",
    "2. Creating Masks to identify the location of the actual pixels and paddings in the features matrix. Consists of only boolean values.\n",
    "3. Iterating over each video while converting it to frames, initializing the empty features matrix and masks for each video\n",
    "4. Iterating over each frame to extract the features from it\n",
    "5. Writing the results in terms of features and masks for all videos to have a cumulative result in 'frame_feature' and 'frame_mask'."
   ]
  },
  {
   "cell_type": "code",
   "execution_count": 34,
   "id": "c83fa9d1",
   "metadata": {},
   "outputs": [],
   "source": [
    "def video_prep(df, root_dir):\n",
    "    \n",
    "    # Creating a variable of sample number to create paddings\n",
    "    num_samples = len(df)\n",
    "    \n",
    "    # Converting the names of the paths of the videos and converting to lis for iteration\n",
    "    video_rte = df.video_name.values.tolist()\n",
    "    \n",
    "    # we'll initialize the features of the frames to zeros to add the frames during loop\n",
    "    frame_features = np.zeros(shape = (num_samples , max_seq , num_features), dtype= \"float32\")\n",
    "    \n",
    "    # making an array to contain booleans to detect paddings\n",
    "    frame_mask = np.zeros(shape=(num_samples , max_seq), dtype = \"bool\")\n",
    "    \n",
    "    ## traversing over all video\n",
    "    for idx, rte in enumerate(video_rte):\n",
    "        ## loading the video\n",
    "        frames = video_framing(os.path.join(root_dir, rte))\n",
    "        frames = frames[None, ...]\n",
    "        \n",
    "        ## stoeing the features and masks of the video\n",
    "        temp_features = np.zeros(shape = (1 , max_seq , num_features), dtype= \"float32\")\n",
    "        temp_mask = np.zeros(shape=(1,max_seq) , dtype = 'bool')\n",
    "        \n",
    "        for i,b in enumerate(frames):\n",
    "            length = min(max_seq , b.shape[0])\n",
    "            \n",
    "            for j in range(length):\n",
    "                temp_features[i,j,:] = extractor.predict(b[None, j , :])\n",
    "                \n",
    "            temp_mask[i, :length] = 1\n",
    "            \n",
    "        ## Adjusting the dimensions    \n",
    "        frame_features[idx,] = temp_features.squeeze()\n",
    "        frame_mask[idx, ] = temp_mask.squeeze()\n",
    "        \n",
    "    return (frame_features , frame_mask)"
   ]
  },
  {
   "cell_type": "code",
   "execution_count": 35,
   "id": "27f5d0a5",
   "metadata": {},
   "outputs": [],
   "source": [
    "df_train_proc = video_prep(df_train, \"train\")\n",
    "df_test_proc = video_prep(df_test , \"Test\")"
   ]
  },
  {
   "cell_type": "markdown",
   "id": "69818bfb",
   "metadata": {},
   "source": [
    "## 8. Recurrent Nueral Network"
   ]
  },
  {
   "cell_type": "markdown",
   "id": "9ecb9768",
   "metadata": {},
   "source": [
    "Now, after we have got the processed video i.e. converting the video to a collection of frames with padding to mantain all videos of the same arbitrary length, we can use it in our RNN model to predict more accurately."
   ]
  },
  {
   "cell_type": "markdown",
   "id": "e6f9a37d",
   "metadata": {},
   "source": [
    "The following are the various steps in the two models using the 'Gated Recurrent Unit' and the 'Long Short term Memory':\n",
    "\n",
    "1. Initial GRU Layer with 16 units and 'tanh' activation'\n",
    "2. Second GRU Layer with 8 units\n",
    "3. Third Drop Out Layer with rate at 0.4\n",
    "4. Fourth Dense Layer with activation switched to 'relu'\n",
    "5. Output Dense Layer with softmax activation since we will be using the probablities for multi-class classification.\n",
    "\n",
    "We will retain the optiizer to 'adam' throughout since it is under most circumstances the best option with RMSprop performing better in very circumstances. The loss function will be spare crossentropy since it is a case of multi-class classification and metric selected to accuracy."
   ]
  },
  {
   "cell_type": "code",
   "execution_count": 65,
   "id": "8ce3225d",
   "metadata": {},
   "outputs": [],
   "source": [
    "# Gated Recurrent Unit\n",
    "def GRU_model():\n",
    "    class_vocab = enc_layer.get_vocabulary()\n",
    "    \n",
    "    ## Instantiating tensors with the feature input set at (20 , 2048) and\n",
    "    ## masking with input set to (20,)\n",
    "    frame_features_input = keras.Input(shape = (max_seq, num_features))\n",
    "    mask_input = keras.Input(shape = (max_seq,), dtype=\"bool\")\n",
    "\n",
    "    ## The second argument is the [samples , timesteps]\n",
    "    x = GRU(16,  activation=\"tanh\" ,return_sequences=True)(frame_features_input, mask=mask_input)\n",
    "    x = GRU(8 , activation=\"tanh\")(x)\n",
    "    x = Dropout(0.4)(x)\n",
    "    x = Dense(8, activation=\"relu\")(x)\n",
    "    \n",
    "    output = Dense(len(class_vocab), activation=\"softmax\")(x)\n",
    "\n",
    "    rnn_model = keras.Model([frame_features_input, mask_input], output)\n",
    "\n",
    "    ## loss is set to sparse categorical crossentropy to deal with multiclassification problem\n",
    "    rnn_model.compile(\n",
    "        loss=\"sparse_categorical_crossentropy\", optimizer=\"adam\", metrics=[\"accuracy\"]\n",
    "    )\n",
    "    return rnn_model"
   ]
  },
  {
   "cell_type": "code",
   "execution_count": 66,
   "id": "f679c34c",
   "metadata": {},
   "outputs": [],
   "source": [
    "# Long Short Term Memory\n",
    "def LSTM_model():\n",
    "    class_vocab = enc_layer.get_vocabulary()\n",
    "    \n",
    "    ## Instantiating tensors with the feature input set at (20 , 2048) and\n",
    "    ## masking with input set to (20,)\n",
    "    frame_features_input = keras.Input(shape = (max_seq, num_features))\n",
    "    mask_input = keras.Input(shape = (max_seq,), dtype=\"bool\")\n",
    "\n",
    "    ## The second argument is the [samples , timesteps]\n",
    "    x = LSTM(16, return_sequences=True)(frame_features_input, mask=mask_input)\n",
    "    x = LSTM(8)(x)\n",
    "    x = Dropout(0.4)(x)\n",
    "    x = Dense(8, activation=\"relu\")(x)\n",
    "    \n",
    "    output = Dense(len(class_vocab), activation=\"softmax\")(x)\n",
    "\n",
    "    rnn_model = keras.Model([frame_features_input, mask_input], output)\n",
    "\n",
    "    rnn_model.compile(\n",
    "        loss=\"sparse_categorical_crossentropy\", optimizer=\"adam\", metrics=[\"accuracy\"]\n",
    "    )\n",
    "    return rnn_model"
   ]
  },
  {
   "cell_type": "markdown",
   "id": "57e43940",
   "metadata": {},
   "source": [
    "## 9. Model Training"
   ]
  },
  {
   "cell_type": "code",
   "execution_count": 67,
   "id": "a8a319c7",
   "metadata": {},
   "outputs": [],
   "source": [
    "EPOCHS = 10\n"
   ]
  },
  {
   "cell_type": "markdown",
   "id": "b357ff88",
   "metadata": {},
   "source": [
    "**(a) RNN GRU**"
   ]
  },
  {
   "cell_type": "code",
   "execution_count": 68,
   "id": "949e424b",
   "metadata": {},
   "outputs": [
    {
     "name": "stdout",
     "output_type": "stream",
     "text": [
      "Epoch 1/10\n",
      "4/4 [==============================] - 14s 2s/step - loss: 2.1969 - accuracy: 0.1827 - val_loss: 2.1994 - val_accuracy: 0.1923\n",
      "Epoch 2/10\n",
      "4/4 [==============================] - 1s 195ms/step - loss: 2.1952 - accuracy: 0.2500 - val_loss: 2.2013 - val_accuracy: 0.1923\n",
      "Epoch 3/10\n",
      "4/4 [==============================] - 1s 218ms/step - loss: 2.1937 - accuracy: 0.2500 - val_loss: 2.2035 - val_accuracy: 0.1923\n",
      "Epoch 4/10\n",
      "4/4 [==============================] - 1s 250ms/step - loss: 2.1922 - accuracy: 0.2500 - val_loss: 2.2056 - val_accuracy: 0.1923\n",
      "Epoch 5/10\n",
      "4/4 [==============================] - 1s 222ms/step - loss: 2.1907 - accuracy: 0.2500 - val_loss: 2.2079 - val_accuracy: 0.1923\n",
      "Epoch 6/10\n",
      "4/4 [==============================] - 1s 240ms/step - loss: 2.1892 - accuracy: 0.2500 - val_loss: 2.2101 - val_accuracy: 0.1923\n",
      "Epoch 7/10\n",
      "4/4 [==============================] - 1s 214ms/step - loss: 2.1879 - accuracy: 0.2500 - val_loss: 2.2123 - val_accuracy: 0.1923\n",
      "Epoch 8/10\n",
      "4/4 [==============================] - 1s 174ms/step - loss: 2.1864 - accuracy: 0.2500 - val_loss: 2.2146 - val_accuracy: 0.1923\n",
      "Epoch 9/10\n",
      "4/4 [==============================] - 1s 282ms/step - loss: 2.1850 - accuracy: 0.2500 - val_loss: 2.2169 - val_accuracy: 0.1923\n",
      "Epoch 10/10\n",
      "4/4 [==============================] - 1s 214ms/step - loss: 2.1835 - accuracy: 0.2500 - val_loss: 2.2191 - val_accuracy: 0.1923\n"
     ]
    },
    {
     "data": {
      "text/plain": [
       "<keras.callbacks.History at 0x17232b60a60>"
      ]
     },
     "execution_count": 68,
     "metadata": {},
     "output_type": "execute_result"
    }
   ],
   "source": [
    "gru_mod = GRU_model()\n",
    "csv_logger = CSVLogger(\"GRU_history_log.csv\", append=True)\n",
    "gru_mod.fit(\n",
    "        [df_train_proc[0], df_train_proc[1]],\n",
    "        video_labels,\n",
    "        validation_split=0.2,\n",
    "        epochs=EPOCHS,\n",
    "        callbacks=[csv_logger]\n",
    "    )"
   ]
  },
  {
   "cell_type": "markdown",
   "id": "ae5dcfa9",
   "metadata": {},
   "source": [
    "**(b) RNN LSTM**"
   ]
  },
  {
   "cell_type": "code",
   "execution_count": 69,
   "id": "c0ed8678",
   "metadata": {},
   "outputs": [
    {
     "name": "stdout",
     "output_type": "stream",
     "text": [
      "Epoch 1/10\n",
      "4/4 [==============================] - 14s 1s/step - loss: 2.1968 - accuracy: 0.1538 - val_loss: 2.1998 - val_accuracy: 0.1923\n",
      "Epoch 2/10\n",
      "4/4 [==============================] - 2s 421ms/step - loss: 2.1951 - accuracy: 0.2500 - val_loss: 2.2023 - val_accuracy: 0.1923\n",
      "Epoch 3/10\n",
      "4/4 [==============================] - 3s 901ms/step - loss: 2.1936 - accuracy: 0.2500 - val_loss: 2.2044 - val_accuracy: 0.1923\n",
      "Epoch 4/10\n",
      "4/4 [==============================] - 4s 955ms/step - loss: 2.1920 - accuracy: 0.2500 - val_loss: 2.2066 - val_accuracy: 0.1923\n",
      "Epoch 5/10\n",
      "4/4 [==============================] - 4s 1s/step - loss: 2.1906 - accuracy: 0.2500 - val_loss: 2.2087 - val_accuracy: 0.1923\n",
      "Epoch 6/10\n",
      "4/4 [==============================] - 2s 475ms/step - loss: 2.1892 - accuracy: 0.2500 - val_loss: 2.2109 - val_accuracy: 0.1923\n",
      "Epoch 7/10\n",
      "4/4 [==============================] - 1s 329ms/step - loss: 2.1877 - accuracy: 0.2500 - val_loss: 2.2132 - val_accuracy: 0.1923\n",
      "Epoch 8/10\n",
      "4/4 [==============================] - 2s 411ms/step - loss: 2.1863 - accuracy: 0.2500 - val_loss: 2.2154 - val_accuracy: 0.1923\n",
      "Epoch 9/10\n",
      "4/4 [==============================] - 2s 460ms/step - loss: 2.1849 - accuracy: 0.2500 - val_loss: 2.2175 - val_accuracy: 0.1923\n",
      "Epoch 10/10\n",
      "4/4 [==============================] - 1s 266ms/step - loss: 2.1834 - accuracy: 0.2500 - val_loss: 2.2196 - val_accuracy: 0.1923\n"
     ]
    },
    {
     "data": {
      "text/plain": [
       "<keras.callbacks.History at 0x17243dc2c40>"
      ]
     },
     "execution_count": 69,
     "metadata": {},
     "output_type": "execute_result"
    }
   ],
   "source": [
    "LSTM_mod = LSTM_model()\n",
    "csv_logger2 = CSVLogger(\"LSTM_history_log.csv\", append=True)\n",
    "LSTM_mod.fit(\n",
    "        [df_train_proc[0], df_train_proc[1]],\n",
    "        video_labels,\n",
    "        validation_split=0.2,\n",
    "        epochs=EPOCHS,\n",
    "        callbacks=[csv_logger2]\n",
    "    )"
   ]
  },
  {
   "cell_type": "code",
   "execution_count": 70,
   "id": "8af2538a",
   "metadata": {},
   "outputs": [
    {
     "name": "stdout",
     "output_type": "stream",
     "text": [
      "1/1 [==============================] - 0s 201ms/step - loss: 2.1899 - accuracy: 0.1538\n"
     ]
    },
    {
     "data": {
      "text/plain": [
       "[2.18990159034729, 0.1538461595773697]"
      ]
     },
     "execution_count": 70,
     "metadata": {},
     "output_type": "execute_result"
    }
   ],
   "source": [
    "gru_mod.evaluate([df_test_proc[0], df_test_proc[1]], video_labels_test)"
   ]
  },
  {
   "cell_type": "code",
   "execution_count": 71,
   "id": "fd3a3b5b",
   "metadata": {},
   "outputs": [
    {
     "name": "stdout",
     "output_type": "stream",
     "text": [
      "1/1 [==============================] - 0s 312ms/step - loss: 2.1896 - accuracy: 0.1538\n"
     ]
    },
    {
     "data": {
      "text/plain": [
       "[2.1895792484283447, 0.1538461595773697]"
      ]
     },
     "execution_count": 71,
     "metadata": {},
     "output_type": "execute_result"
    }
   ],
   "source": [
    "LSTM_mod.evaluate([df_test_proc[0], df_test_proc[1]], video_labels_test)"
   ]
  },
  {
   "cell_type": "markdown",
   "id": "aa1c3a10",
   "metadata": {},
   "source": [
    "## 10. Model Test Results"
   ]
  },
  {
   "cell_type": "code",
   "execution_count": 72,
   "id": "31c6d658",
   "metadata": {},
   "outputs": [],
   "source": [
    "def single_sample_process(path , model):\n",
    "    \n",
    "    ## extracting the frames\n",
    "    frames = video_framing(path)\n",
    "    \n",
    "    ## Extracting the features and masks\n",
    "    temp_df = df_test.loc[df_test.video_name == path]\n",
    "    frame_features , frame_mask = video_prep(temp_df , 'test')\n",
    "    \n",
    "    prob = model.predict([frame_features , frame_mask])[0]\n",
    "    \n",
    "    class_vocab = enc_layer.get_vocabulary()\n",
    "    \n",
    "    for i in np.argsort(prob)[::-1]:\n",
    "        print(f\"  {class_vocab[i]}: {prob[i] * 100:5.5f}%\")\n"
   ]
  },
  {
   "cell_type": "markdown",
   "id": "a22ad725",
   "metadata": {},
   "source": [
    "**(a) GRU Layers**"
   ]
  },
  {
   "cell_type": "code",
   "execution_count": 73,
   "id": "ee876a36",
   "metadata": {},
   "outputs": [
    {
     "name": "stdout",
     "output_type": "stream",
     "text": [
      "Data\\Test\\Kicking\\3833-15_70577.avi\n",
      "WARNING:tensorflow:5 out of the last 5 calls to <function Model.make_predict_function.<locals>.predict_function at 0x0000017254C1BA60> triggered tf.function retracing. Tracing is expensive and the excessive number of tracings could be due to (1) creating @tf.function repeatedly in a loop, (2) passing tensors with different shapes, (3) passing Python objects instead of tensors. For (1), please define your @tf.function outside of the loop. For (2), @tf.function has experimental_relax_shapes=True option that relaxes argument shapes that can avoid unnecessary retracing. For (3), please refer to https://www.tensorflow.org/guide/function#controlling_retracing and https://www.tensorflow.org/api_docs/python/tf/function for  more details.\n",
      "  Swing: 11.53731%\n",
      "  Kicking: 11.40681%\n",
      "  Golf-Swing: 11.30200%\n",
      "  SkateBoarding: 11.18815%\n",
      "  Run-Side: 11.18125%\n",
      "  Riding-Horse: 11.09461%\n",
      "  Diving-Side: 10.79766%\n",
      "  Lifting: 10.77462%\n",
      "  Walk-Front: 10.71761%\n"
     ]
    }
   ],
   "source": [
    "test_video = np.random.choice(df_test[\"video_name\"].values.tolist())\n",
    "print (test_video)\n",
    "single_sample_process(test_video , gru_mod)"
   ]
  },
  {
   "cell_type": "markdown",
   "id": "0ad716d6",
   "metadata": {},
   "source": [
    "**(b) LSTM Layers**"
   ]
  },
  {
   "cell_type": "code",
   "execution_count": 74,
   "id": "8bb4b4b3",
   "metadata": {},
   "outputs": [
    {
     "name": "stdout",
     "output_type": "stream",
     "text": [
      "Data\\Test\\Kicking\\3833-15_70577.avi\n",
      "WARNING:tensorflow:6 out of the last 6 calls to <function Model.make_predict_function.<locals>.predict_function at 0x000001725D39D700> triggered tf.function retracing. Tracing is expensive and the excessive number of tracings could be due to (1) creating @tf.function repeatedly in a loop, (2) passing tensors with different shapes, (3) passing Python objects instead of tensors. For (1), please define your @tf.function outside of the loop. For (2), @tf.function has experimental_relax_shapes=True option that relaxes argument shapes that can avoid unnecessary retracing. For (3), please refer to https://www.tensorflow.org/guide/function#controlling_retracing and https://www.tensorflow.org/api_docs/python/tf/function for  more details.\n",
      "  Swing: 11.56780%\n",
      "  Kicking: 11.41995%\n",
      "  Golf-Swing: 11.30408%\n",
      "  Run-Side: 11.16199%\n",
      "  Riding-Horse: 11.10245%\n",
      "  SkateBoarding: 11.08756%\n",
      "  Diving-Side: 10.87276%\n",
      "  Lifting: 10.77952%\n",
      "  Walk-Front: 10.70389%\n"
     ]
    }
   ],
   "source": [
    "print (test_video)\n",
    "single_sample_process(test_video , LSTM_mod)"
   ]
  },
  {
   "cell_type": "markdown",
   "id": "1657b782",
   "metadata": {},
   "source": [
    "## 11. CNN Extractor Tweaking"
   ]
  },
  {
   "cell_type": "markdown",
   "id": "ac31e4b6",
   "metadata": {},
   "source": [
    "As part of our transfer learning technique, we used the vgg16 from the keras applications package which seemingly gives us acceptable results. Now, let us use additional 2 trained models from keras namely 'resnet50' and 'inception_v3'. Since the two RNN designs namely LSTM and GRU aren't producing much different results, we'll be using GRU."
   ]
  },
  {
   "cell_type": "markdown",
   "id": "11061c21",
   "metadata": {},
   "source": [
    "**(a) RESnet50**"
   ]
  },
  {
   "cell_type": "code",
   "execution_count": 75,
   "id": "dba922c8",
   "metadata": {},
   "outputs": [],
   "source": [
    "feature_extractor = applications.ResNet50(include_top = False ,weights=\"imagenet\", input_shape =(224,224,3),\n",
    "                                                    pooling = 'avg'  ) \n",
    "def extractor():\n",
    "    ## Using he xgg16 model from keras as transfer learning technique to train the CNN portion\n",
    "\n",
    "    prep = applications.vgg16.preprocess_input\n",
    "    \n",
    "    inputs = keras.Input((image_size , image_size , 3))\n",
    "    processed = prep(inputs)\n",
    "    \n",
    "    outputs = feature_extractor(processed)\n",
    "    return (keras.Model(inputs , outputs, name = 'feature_extractor'))\n",
    "\n",
    "extractor = extractor()"
   ]
  },
  {
   "cell_type": "code",
   "execution_count": 76,
   "id": "9792c87e",
   "metadata": {},
   "outputs": [],
   "source": [
    "df_train_proc_1 = video_prep(df_train, \"train\")\n",
    "df_test_proc_1 = video_prep(df_test , \"Test\")"
   ]
  },
  {
   "cell_type": "code",
   "execution_count": 77,
   "id": "98a31ee2",
   "metadata": {},
   "outputs": [
    {
     "name": "stdout",
     "output_type": "stream",
     "text": [
      "Epoch 1/10\n",
      "4/4 [==============================] - 9s 870ms/step - loss: 2.1969 - accuracy: 0.1827 - val_loss: 2.1992 - val_accuracy: 0.1923\n",
      "Epoch 2/10\n",
      "4/4 [==============================] - 1s 172ms/step - loss: 2.1952 - accuracy: 0.2500 - val_loss: 2.2013 - val_accuracy: 0.1923\n",
      "Epoch 3/10\n",
      "4/4 [==============================] - 1s 235ms/step - loss: 2.1937 - accuracy: 0.2500 - val_loss: 2.2034 - val_accuracy: 0.1923\n",
      "Epoch 4/10\n",
      "4/4 [==============================] - 1s 149ms/step - loss: 2.1922 - accuracy: 0.2500 - val_loss: 2.2056 - val_accuracy: 0.1923\n",
      "Epoch 5/10\n",
      "4/4 [==============================] - 1s 194ms/step - loss: 2.1906 - accuracy: 0.2500 - val_loss: 2.2079 - val_accuracy: 0.1923\n",
      "Epoch 6/10\n",
      "4/4 [==============================] - 1s 177ms/step - loss: 2.1891 - accuracy: 0.2500 - val_loss: 2.2101 - val_accuracy: 0.1923\n",
      "Epoch 7/10\n",
      "4/4 [==============================] - 1s 162ms/step - loss: 2.1875 - accuracy: 0.2500 - val_loss: 2.2122 - val_accuracy: 0.1923\n",
      "Epoch 8/10\n",
      "4/4 [==============================] - 1s 286ms/step - loss: 2.1859 - accuracy: 0.2500 - val_loss: 2.2143 - val_accuracy: 0.1923\n",
      "Epoch 9/10\n",
      "4/4 [==============================] - 1s 205ms/step - loss: 2.1844 - accuracy: 0.2500 - val_loss: 2.2164 - val_accuracy: 0.1923\n",
      "Epoch 10/10\n",
      "4/4 [==============================] - 1s 157ms/step - loss: 2.1829 - accuracy: 0.2500 - val_loss: 2.2185 - val_accuracy: 0.1923\n"
     ]
    },
    {
     "data": {
      "text/plain": [
       "<keras.callbacks.History at 0x17231589ee0>"
      ]
     },
     "execution_count": 77,
     "metadata": {},
     "output_type": "execute_result"
    }
   ],
   "source": [
    "gru_mod = GRU_model()\n",
    "csv_logger = CSVLogger(\"resnet_history_log.csv\", append=True)\n",
    "gru_mod.fit(\n",
    "        [df_train_proc_1[0], df_train_proc_1[1]],\n",
    "        video_labels,\n",
    "        validation_split=0.2,\n",
    "        epochs=EPOCHS,\n",
    "        callbacks=[csv_logger]\n",
    "    )"
   ]
  },
  {
   "cell_type": "code",
   "execution_count": 78,
   "id": "7b000755",
   "metadata": {},
   "outputs": [
    {
     "name": "stdout",
     "output_type": "stream",
     "text": [
      "Data\\Test\\Kicking\\3833-15_70577.avi\n",
      "  Swing: 11.57794%\n",
      "  Kicking: 11.42727%\n",
      "  Golf-Swing: 11.31902%\n",
      "  Run-Side: 11.19438%\n",
      "  Riding-Horse: 11.11481%\n",
      "  SkateBoarding: 11.09069%\n",
      "  Diving-Side: 10.79267%\n",
      "  Lifting: 10.76605%\n",
      "  Walk-Front: 10.71716%\n"
     ]
    }
   ],
   "source": [
    "print (test_video)\n",
    "single_sample_process(test_video , gru_mod)"
   ]
  },
  {
   "cell_type": "markdown",
   "id": "e0ac5da2",
   "metadata": {},
   "source": [
    "**(b) Inception_v3**"
   ]
  },
  {
   "cell_type": "code",
   "execution_count": 79,
   "id": "815141ff",
   "metadata": {},
   "outputs": [],
   "source": [
    "feature_extractor = applications.InceptionV3(include_top = False ,weights=\"imagenet\", input_shape =(224,224,3),\n",
    "                                                    pooling = 'avg'  ) \n",
    "def extractor():\n",
    "    ## Using he xgg16 model from keras as transfer learning technique to train the CNN portion\n",
    "\n",
    "    prep = applications.vgg16.preprocess_input\n",
    "    \n",
    "    inputs = keras.Input((image_size , image_size , 3))\n",
    "    processed = prep(inputs)\n",
    "    \n",
    "    outputs = feature_extractor(processed)\n",
    "    return (keras.Model(inputs , outputs, name = 'feature_extractor'))\n",
    "\n",
    "extractor = extractor()"
   ]
  },
  {
   "cell_type": "code",
   "execution_count": 80,
   "id": "367436f1",
   "metadata": {},
   "outputs": [],
   "source": [
    "df_train_proc_2 = video_prep(df_train, \"train\")\n",
    "df_test_proc_2 = video_prep(df_test , \"Test\")"
   ]
  },
  {
   "cell_type": "code",
   "execution_count": 81,
   "id": "95cb039f",
   "metadata": {},
   "outputs": [
    {
     "name": "stdout",
     "output_type": "stream",
     "text": [
      "Epoch 1/10\n",
      "4/4 [==============================] - 13s 893ms/step - loss: 2.1967 - accuracy: 0.1058 - val_loss: 2.1993 - val_accuracy: 0.0000e+00\n",
      "Epoch 2/10\n",
      "4/4 [==============================] - 1s 170ms/step - loss: 2.1952 - accuracy: 0.1827 - val_loss: 2.2016 - val_accuracy: 0.0000e+00\n",
      "Epoch 3/10\n",
      "4/4 [==============================] - 1s 173ms/step - loss: 2.1936 - accuracy: 0.1731 - val_loss: 2.2039 - val_accuracy: 0.0000e+00\n",
      "Epoch 4/10\n",
      "4/4 [==============================] - 1s 285ms/step - loss: 2.1922 - accuracy: 0.1731 - val_loss: 2.2062 - val_accuracy: 0.1923\n",
      "Epoch 5/10\n",
      "4/4 [==============================] - 1s 210ms/step - loss: 2.1907 - accuracy: 0.2500 - val_loss: 2.2085 - val_accuracy: 0.1923\n",
      "Epoch 6/10\n",
      "4/4 [==============================] - 1s 124ms/step - loss: 2.1894 - accuracy: 0.2500 - val_loss: 2.2109 - val_accuracy: 0.1923\n",
      "Epoch 7/10\n",
      "4/4 [==============================] - 0s 128ms/step - loss: 2.1879 - accuracy: 0.2500 - val_loss: 2.2132 - val_accuracy: 0.1923\n",
      "Epoch 8/10\n",
      "4/4 [==============================] - 1s 164ms/step - loss: 2.1865 - accuracy: 0.2500 - val_loss: 2.2156 - val_accuracy: 0.1923\n",
      "Epoch 9/10\n",
      "4/4 [==============================] - 0s 109ms/step - loss: 2.1852 - accuracy: 0.2500 - val_loss: 2.2179 - val_accuracy: 0.1923\n",
      "Epoch 10/10\n",
      "4/4 [==============================] - 1s 193ms/step - loss: 2.1838 - accuracy: 0.2500 - val_loss: 2.2202 - val_accuracy: 0.1923\n"
     ]
    },
    {
     "data": {
      "text/plain": [
       "<keras.callbacks.History at 0x171f1f7c430>"
      ]
     },
     "execution_count": 81,
     "metadata": {},
     "output_type": "execute_result"
    }
   ],
   "source": [
    "gru_mod = GRU_model()\n",
    "csv_logger = CSVLogger(\"inceptionv3_history_log.csv\", append=True)\n",
    "gru_mod.fit(\n",
    "        [df_train_proc_2[0], df_train_proc_2[1]],\n",
    "        video_labels,\n",
    "        validation_split=0.2,\n",
    "        epochs=EPOCHS,\n",
    "        callbacks=[csv_logger]\n",
    "    )"
   ]
  },
  {
   "cell_type": "code",
   "execution_count": 82,
   "id": "06c3ee34",
   "metadata": {},
   "outputs": [
    {
     "name": "stdout",
     "output_type": "stream",
     "text": [
      "Data\\Test\\Kicking\\3833-15_70577.avi\n",
      "  Swing: 11.49227%\n",
      "  Kicking: 11.46915%\n",
      "  Golf-Swing: 11.33133%\n",
      "  Run-Side: 11.21216%\n",
      "  SkateBoarding: 11.11855%\n",
      "  Riding-Horse: 11.07936%\n",
      "  Diving-Side: 10.81318%\n",
      "  Lifting: 10.77098%\n",
      "  Walk-Front: 10.71301%\n"
     ]
    }
   ],
   "source": [
    "print (test_video)\n",
    "single_sample_process(test_video , gru_mod)"
   ]
  },
  {
   "cell_type": "markdown",
   "id": "35a00560",
   "metadata": {},
   "source": [
    "## 12. Results and Analysis"
   ]
  },
  {
   "cell_type": "markdown",
   "id": "2e0d12e7",
   "metadata": {},
   "source": [
    "**(a) RNN Model Architecture Comparison**"
   ]
  },
  {
   "cell_type": "code",
   "execution_count": 83,
   "id": "4c2d8257",
   "metadata": {},
   "outputs": [
    {
     "data": {
      "text/html": [
       "<div>\n",
       "<style scoped>\n",
       "    .dataframe tbody tr th:only-of-type {\n",
       "        vertical-align: middle;\n",
       "    }\n",
       "\n",
       "    .dataframe tbody tr th {\n",
       "        vertical-align: top;\n",
       "    }\n",
       "\n",
       "    .dataframe thead th {\n",
       "        text-align: right;\n",
       "    }\n",
       "</style>\n",
       "<table border=\"1\" class=\"dataframe\">\n",
       "  <thead>\n",
       "    <tr style=\"text-align: right;\">\n",
       "      <th></th>\n",
       "      <th>epoch</th>\n",
       "      <th>accuracy</th>\n",
       "      <th>loss</th>\n",
       "      <th>val_accuracy</th>\n",
       "      <th>val_loss</th>\n",
       "    </tr>\n",
       "  </thead>\n",
       "  <tbody>\n",
       "    <tr>\n",
       "      <th>0</th>\n",
       "      <td>0</td>\n",
       "      <td>0.182692</td>\n",
       "      <td>2.196924</td>\n",
       "      <td>0.192308</td>\n",
       "      <td>2.199375</td>\n",
       "    </tr>\n",
       "    <tr>\n",
       "      <th>1</th>\n",
       "      <td>1</td>\n",
       "      <td>0.250000</td>\n",
       "      <td>2.195204</td>\n",
       "      <td>0.192308</td>\n",
       "      <td>2.201330</td>\n",
       "    </tr>\n",
       "    <tr>\n",
       "      <th>2</th>\n",
       "      <td>2</td>\n",
       "      <td>0.250000</td>\n",
       "      <td>2.193718</td>\n",
       "      <td>0.192308</td>\n",
       "      <td>2.203471</td>\n",
       "    </tr>\n",
       "    <tr>\n",
       "      <th>3</th>\n",
       "      <td>3</td>\n",
       "      <td>0.250000</td>\n",
       "      <td>2.192199</td>\n",
       "      <td>0.192308</td>\n",
       "      <td>2.205624</td>\n",
       "    </tr>\n",
       "    <tr>\n",
       "      <th>4</th>\n",
       "      <td>4</td>\n",
       "      <td>0.250000</td>\n",
       "      <td>2.190674</td>\n",
       "      <td>0.192308</td>\n",
       "      <td>2.207853</td>\n",
       "    </tr>\n",
       "    <tr>\n",
       "      <th>5</th>\n",
       "      <td>5</td>\n",
       "      <td>0.250000</td>\n",
       "      <td>2.189220</td>\n",
       "      <td>0.192308</td>\n",
       "      <td>2.210109</td>\n",
       "    </tr>\n",
       "    <tr>\n",
       "      <th>6</th>\n",
       "      <td>6</td>\n",
       "      <td>0.250000</td>\n",
       "      <td>2.187874</td>\n",
       "      <td>0.192308</td>\n",
       "      <td>2.212326</td>\n",
       "    </tr>\n",
       "    <tr>\n",
       "      <th>7</th>\n",
       "      <td>7</td>\n",
       "      <td>0.250000</td>\n",
       "      <td>2.186419</td>\n",
       "      <td>0.192308</td>\n",
       "      <td>2.214628</td>\n",
       "    </tr>\n",
       "    <tr>\n",
       "      <th>8</th>\n",
       "      <td>8</td>\n",
       "      <td>0.250000</td>\n",
       "      <td>2.184973</td>\n",
       "      <td>0.192308</td>\n",
       "      <td>2.216909</td>\n",
       "    </tr>\n",
       "    <tr>\n",
       "      <th>9</th>\n",
       "      <td>9</td>\n",
       "      <td>0.250000</td>\n",
       "      <td>2.183540</td>\n",
       "      <td>0.192308</td>\n",
       "      <td>2.219109</td>\n",
       "    </tr>\n",
       "  </tbody>\n",
       "</table>\n",
       "</div>"
      ],
      "text/plain": [
       "   epoch  accuracy      loss  val_accuracy  val_loss\n",
       "0      0  0.182692  2.196924      0.192308  2.199375\n",
       "1      1  0.250000  2.195204      0.192308  2.201330\n",
       "2      2  0.250000  2.193718      0.192308  2.203471\n",
       "3      3  0.250000  2.192199      0.192308  2.205624\n",
       "4      4  0.250000  2.190674      0.192308  2.207853\n",
       "5      5  0.250000  2.189220      0.192308  2.210109\n",
       "6      6  0.250000  2.187874      0.192308  2.212326\n",
       "7      7  0.250000  2.186419      0.192308  2.214628\n",
       "8      8  0.250000  2.184973      0.192308  2.216909\n",
       "9      9  0.250000  2.183540      0.192308  2.219109"
      ]
     },
     "execution_count": 83,
     "metadata": {},
     "output_type": "execute_result"
    }
   ],
   "source": [
    "gru_res = pd.read_csv(r'GRU_history_log.csv')\n",
    "gru_res"
   ]
  },
  {
   "cell_type": "code",
   "execution_count": 84,
   "id": "9d579b6b",
   "metadata": {},
   "outputs": [
    {
     "data": {
      "text/html": [
       "<div>\n",
       "<style scoped>\n",
       "    .dataframe tbody tr th:only-of-type {\n",
       "        vertical-align: middle;\n",
       "    }\n",
       "\n",
       "    .dataframe tbody tr th {\n",
       "        vertical-align: top;\n",
       "    }\n",
       "\n",
       "    .dataframe thead th {\n",
       "        text-align: right;\n",
       "    }\n",
       "</style>\n",
       "<table border=\"1\" class=\"dataframe\">\n",
       "  <thead>\n",
       "    <tr style=\"text-align: right;\">\n",
       "      <th></th>\n",
       "      <th>epoch</th>\n",
       "      <th>accuracy</th>\n",
       "      <th>loss</th>\n",
       "      <th>val_accuracy</th>\n",
       "      <th>val_loss</th>\n",
       "    </tr>\n",
       "  </thead>\n",
       "  <tbody>\n",
       "    <tr>\n",
       "      <th>0</th>\n",
       "      <td>0</td>\n",
       "      <td>0.153846</td>\n",
       "      <td>2.196823</td>\n",
       "      <td>0.192308</td>\n",
       "      <td>2.199847</td>\n",
       "    </tr>\n",
       "    <tr>\n",
       "      <th>1</th>\n",
       "      <td>1</td>\n",
       "      <td>0.250000</td>\n",
       "      <td>2.195052</td>\n",
       "      <td>0.192308</td>\n",
       "      <td>2.202263</td>\n",
       "    </tr>\n",
       "    <tr>\n",
       "      <th>2</th>\n",
       "      <td>2</td>\n",
       "      <td>0.250000</td>\n",
       "      <td>2.193632</td>\n",
       "      <td>0.192308</td>\n",
       "      <td>2.204413</td>\n",
       "    </tr>\n",
       "    <tr>\n",
       "      <th>3</th>\n",
       "      <td>3</td>\n",
       "      <td>0.250000</td>\n",
       "      <td>2.192045</td>\n",
       "      <td>0.192308</td>\n",
       "      <td>2.206594</td>\n",
       "    </tr>\n",
       "    <tr>\n",
       "      <th>4</th>\n",
       "      <td>4</td>\n",
       "      <td>0.250000</td>\n",
       "      <td>2.190572</td>\n",
       "      <td>0.192308</td>\n",
       "      <td>2.208745</td>\n",
       "    </tr>\n",
       "    <tr>\n",
       "      <th>5</th>\n",
       "      <td>5</td>\n",
       "      <td>0.250000</td>\n",
       "      <td>2.189223</td>\n",
       "      <td>0.192308</td>\n",
       "      <td>2.210915</td>\n",
       "    </tr>\n",
       "    <tr>\n",
       "      <th>6</th>\n",
       "      <td>6</td>\n",
       "      <td>0.250000</td>\n",
       "      <td>2.187682</td>\n",
       "      <td>0.192308</td>\n",
       "      <td>2.213237</td>\n",
       "    </tr>\n",
       "    <tr>\n",
       "      <th>7</th>\n",
       "      <td>7</td>\n",
       "      <td>0.250000</td>\n",
       "      <td>2.186308</td>\n",
       "      <td>0.192308</td>\n",
       "      <td>2.215436</td>\n",
       "    </tr>\n",
       "    <tr>\n",
       "      <th>8</th>\n",
       "      <td>8</td>\n",
       "      <td>0.250000</td>\n",
       "      <td>2.184868</td>\n",
       "      <td>0.192308</td>\n",
       "      <td>2.217546</td>\n",
       "    </tr>\n",
       "    <tr>\n",
       "      <th>9</th>\n",
       "      <td>9</td>\n",
       "      <td>0.250000</td>\n",
       "      <td>2.183417</td>\n",
       "      <td>0.192308</td>\n",
       "      <td>2.219637</td>\n",
       "    </tr>\n",
       "  </tbody>\n",
       "</table>\n",
       "</div>"
      ],
      "text/plain": [
       "   epoch  accuracy      loss  val_accuracy  val_loss\n",
       "0      0  0.153846  2.196823      0.192308  2.199847\n",
       "1      1  0.250000  2.195052      0.192308  2.202263\n",
       "2      2  0.250000  2.193632      0.192308  2.204413\n",
       "3      3  0.250000  2.192045      0.192308  2.206594\n",
       "4      4  0.250000  2.190572      0.192308  2.208745\n",
       "5      5  0.250000  2.189223      0.192308  2.210915\n",
       "6      6  0.250000  2.187682      0.192308  2.213237\n",
       "7      7  0.250000  2.186308      0.192308  2.215436\n",
       "8      8  0.250000  2.184868      0.192308  2.217546\n",
       "9      9  0.250000  2.183417      0.192308  2.219637"
      ]
     },
     "execution_count": 84,
     "metadata": {},
     "output_type": "execute_result"
    }
   ],
   "source": [
    "lstm_res = pd.read_csv(r'LSTM_history_log.csv')\n",
    "lstm_res"
   ]
  },
  {
   "cell_type": "code",
   "execution_count": 85,
   "id": "4982e17f",
   "metadata": {},
   "outputs": [
    {
     "data": {
      "text/plain": [
       "<AxesSubplot:title={'center':'GRU Accuracy'}, xlabel='epoch'>"
      ]
     },
     "execution_count": 85,
     "metadata": {},
     "output_type": "execute_result"
    },
    {
     "data": {
      "image/png": "[encoded data removed]",
      "text/plain": [
       "<Figure size 1080x720 with 1 Axes>"
      ]
     },
     "metadata": {
      "needs_background": "light"
     },
     "output_type": "display_data"
    }
   ],
   "source": [
    "gru_res.plot.line(x = 'epoch' , y = ['accuracy','val_accuracy'], figsize=(15, 10), title='GRU Accuracy')"
   ]
  },
  {
   "cell_type": "code",
   "execution_count": 86,
   "id": "64ca6868",
   "metadata": {},
   "outputs": [
    {
     "data": {
      "text/plain": [
       "<AxesSubplot:title={'center':'LSTM Accuracy'}, xlabel='epoch'>"
      ]
     },
     "execution_count": 86,
     "metadata": {},
     "output_type": "execute_result"
    },
    {
     "data": {
      "image/png": "[encoded data removed]",
      "text/plain": [
       "<Figure size 1080x720 with 1 Axes>"
      ]
     },
     "metadata": {
      "needs_background": "light"
     },
     "output_type": "display_data"
    }
   ],
   "source": [
    "lstm_res.plot.line(x = 'epoch' , y = ['accuracy','val_accuracy'], figsize=(15, 10), title='LSTM Accuracy')"
   ]
  },
  {
   "cell_type": "markdown",
   "id": "131d6ef3",
   "metadata": {},
   "source": [
    "**(b) CNN Model Architecture Comparison**"
   ]
  },
  {
   "cell_type": "code",
   "execution_count": 87,
   "id": "effe5b26",
   "metadata": {},
   "outputs": [],
   "source": [
    "resnet_res = pd.read_csv(r'resnet_history_log.csv')\n",
    "inceptionv3_res = pd.read_csv(r'inceptionv3_history_log.csv')"
   ]
  },
  {
   "cell_type": "code",
   "execution_count": 88,
   "id": "168eda93",
   "metadata": {},
   "outputs": [
    {
     "data": {
      "text/plain": [
       "<AxesSubplot:title={'center':'RESNET Accuracy'}, xlabel='epoch'>"
      ]
     },
     "execution_count": 88,
     "metadata": {},
     "output_type": "execute_result"
    },
    {
     "data": {
      "image/png": "[encoded data removed]",
      "text/plain": [
       "<Figure size 1080x720 with 1 Axes>"
      ]
     },
     "metadata": {
      "needs_background": "light"
     },
     "output_type": "display_data"
    }
   ],
   "source": [
    "resnet_res.plot.line(x = 'epoch' , y = ['accuracy','val_accuracy'], figsize=(15, 10), title='RESNET Accuracy')"
   ]
  },
  {
   "cell_type": "code",
   "execution_count": 89,
   "id": "a2345422",
   "metadata": {},
   "outputs": [
    {
     "data": {
      "text/plain": [
       "<AxesSubplot:title={'center':'Inception_v3'}, xlabel='epoch'>"
      ]
     },
     "execution_count": 89,
     "metadata": {},
     "output_type": "execute_result"
    },
    {
     "data": {
      "image/png": "[encoded data removed]",
      "text/plain": [
       "<Figure size 1080x720 with 1 Axes>"
      ]
     },
     "metadata": {
      "needs_background": "light"
     },
     "output_type": "display_data"
    }
   ],
   "source": [
    "inceptionv3_res.plot.line(x = 'epoch' , y = ['accuracy','val_accuracy'], figsize=(15, 10), title='Inception_v3')"
   ]
  },
  {
   "cell_type": "markdown",
   "id": "71748a4f",
   "metadata": {},
   "source": [
    "**(c) Optmizer Finalization**"
   ]
  },
  {
   "cell_type": "markdown",
   "id": "7ecb8c94",
   "metadata": {},
   "source": [
    "**RMSprop**"
   ]
  },
  {
   "cell_type": "code",
   "execution_count": 92,
   "id": "51c5f74c",
   "metadata": {},
   "outputs": [
    {
     "name": "stdout",
     "output_type": "stream",
     "text": [
      "Epoch 1/10\n",
      "4/4 [==============================] - 15s 2s/step - loss: 2.1854 - accuracy: 0.1250 - val_loss: 2.2598 - val_accuracy: 0.0000e+00\n",
      "Epoch 2/10\n",
      "4/4 [==============================] - 1s 212ms/step - loss: 2.1606 - accuracy: 0.1442 - val_loss: 2.2926 - val_accuracy: 0.0000e+00\n",
      "Epoch 3/10\n",
      "4/4 [==============================] - 1s 266ms/step - loss: 2.1427 - accuracy: 0.1635 - val_loss: 2.3205 - val_accuracy: 0.1923\n",
      "Epoch 4/10\n",
      "4/4 [==============================] - 1s 387ms/step - loss: 2.1307 - accuracy: 0.2500 - val_loss: 2.3465 - val_accuracy: 0.1923\n",
      "Epoch 5/10\n",
      "4/4 [==============================] - 1s 340ms/step - loss: 2.1198 - accuracy: 0.2500 - val_loss: 2.3720 - val_accuracy: 0.1923\n",
      "Epoch 6/10\n",
      "4/4 [==============================] - 1s 388ms/step - loss: 2.1091 - accuracy: 0.2500 - val_loss: 2.3967 - val_accuracy: 0.1923\n",
      "Epoch 7/10\n",
      "4/4 [==============================] - 1s 278ms/step - loss: 2.1000 - accuracy: 0.2500 - val_loss: 2.4221 - val_accuracy: 0.1923\n",
      "Epoch 8/10\n",
      "4/4 [==============================] - 1s 247ms/step - loss: 2.0908 - accuracy: 0.2500 - val_loss: 2.4475 - val_accuracy: 0.1923\n",
      "Epoch 9/10\n",
      "4/4 [==============================] - 1s 346ms/step - loss: 2.0854 - accuracy: 0.2500 - val_loss: 2.4740 - val_accuracy: 0.1923\n",
      "Epoch 10/10\n",
      "4/4 [==============================] - 2s 427ms/step - loss: 2.0788 - accuracy: 0.2500 - val_loss: 2.4994 - val_accuracy: 0.1923\n"
     ]
    },
    {
     "data": {
      "text/plain": [
       "<keras.callbacks.History at 0x172a24e1430>"
      ]
     },
     "execution_count": 92,
     "metadata": {},
     "output_type": "execute_result"
    }
   ],
   "source": [
    "# Gated Recurrent Unit\n",
    "def GRU_model():\n",
    "    class_vocab = enc_layer.get_vocabulary()\n",
    "    \n",
    "    ## Instantiating tensors with the feature input set at (20 , 2048) and\n",
    "    ## masking with input set to (20,)\n",
    "    frame_features_input = keras.Input(shape = (max_seq, num_features))\n",
    "    mask_input = keras.Input(shape = (max_seq,), dtype=\"bool\")\n",
    "\n",
    "    ## The second argument is the [samples , timesteps]\n",
    "    x = GRU(16,  activation=\"tanh\" ,return_sequences=True)(frame_features_input, mask=mask_input)\n",
    "    x = GRU(8 , activation=\"tanh\")(x)\n",
    "    x = Dropout(0.4)(x)\n",
    "    x = Dense(8, activation=\"relu\")(x)\n",
    "    \n",
    "    output = Dense(len(class_vocab), activation=\"softmax\")(x)\n",
    "\n",
    "    rnn_model = keras.Model([frame_features_input, mask_input], output)\n",
    "\n",
    "    ## loss is set to sparse categorical crossentropy to deal with multiclassification problem\n",
    "    ##########\n",
    "    opt = keras.optimizers.RMSprop(learning_rate= 0.01)\n",
    "    #########\n",
    "    \n",
    "    rnn_model.compile(\n",
    "        loss=\"sparse_categorical_crossentropy\", optimizer=opt, metrics=[\"accuracy\"]\n",
    "    )\n",
    "    return rnn_model\n",
    "\n",
    "gru_mod = GRU_model()\n",
    "csv_logger = CSVLogger(\"rmsprop_history_log.csv\", append=True)\n",
    "gru_mod.fit(\n",
    "        [df_train_proc[0], df_train_proc[1]],\n",
    "        video_labels,\n",
    "        validation_split=0.2,\n",
    "        epochs=EPOCHS,\n",
    "        callbacks=[csv_logger]\n",
    "    )"
   ]
  },
  {
   "cell_type": "markdown",
   "id": "f7c78bd0",
   "metadata": {},
   "source": [
    "**AdaDelta**"
   ]
  },
  {
   "cell_type": "code",
   "execution_count": 94,
   "id": "a86df351",
   "metadata": {},
   "outputs": [
    {
     "name": "stdout",
     "output_type": "stream",
     "text": [
      "Epoch 1/10\n",
      "4/4 [==============================] - 11s 999ms/step - loss: 2.1972 - accuracy: 0.1442 - val_loss: 2.1973 - val_accuracy: 0.1923\n",
      "Epoch 2/10\n",
      "4/4 [==============================] - 1s 271ms/step - loss: 2.1972 - accuracy: 0.2500 - val_loss: 2.1973 - val_accuracy: 0.1923\n",
      "Epoch 3/10\n",
      "4/4 [==============================] - 2s 489ms/step - loss: 2.1972 - accuracy: 0.2500 - val_loss: 2.1973 - val_accuracy: 0.1923\n",
      "Epoch 4/10\n",
      "4/4 [==============================] - 1s 235ms/step - loss: 2.1972 - accuracy: 0.2500 - val_loss: 2.1973 - val_accuracy: 0.1923\n",
      "Epoch 5/10\n",
      "4/4 [==============================] - 1s 191ms/step - loss: 2.1971 - accuracy: 0.2500 - val_loss: 2.1974 - val_accuracy: 0.1923\n",
      "Epoch 6/10\n",
      "4/4 [==============================] - 1s 233ms/step - loss: 2.1971 - accuracy: 0.2500 - val_loss: 2.1974 - val_accuracy: 0.1923\n",
      "Epoch 7/10\n",
      "4/4 [==============================] - 1s 196ms/step - loss: 2.1971 - accuracy: 0.2500 - val_loss: 2.1974 - val_accuracy: 0.1923\n",
      "Epoch 8/10\n",
      "4/4 [==============================] - 1s 215ms/step - loss: 2.1971 - accuracy: 0.2500 - val_loss: 2.1975 - val_accuracy: 0.1923\n",
      "Epoch 9/10\n",
      "4/4 [==============================] - 1s 222ms/step - loss: 2.1970 - accuracy: 0.2500 - val_loss: 2.1975 - val_accuracy: 0.1923\n",
      "Epoch 10/10\n",
      "4/4 [==============================] - 1s 228ms/step - loss: 2.1970 - accuracy: 0.2500 - val_loss: 2.1975 - val_accuracy: 0.1923\n"
     ]
    },
    {
     "data": {
      "text/plain": [
       "<keras.callbacks.History at 0x17256f513d0>"
      ]
     },
     "execution_count": 94,
     "metadata": {},
     "output_type": "execute_result"
    }
   ],
   "source": [
    "# Gated Recurrent Unit\n",
    "def GRU_model():\n",
    "    class_vocab = enc_layer.get_vocabulary()\n",
    "    \n",
    "    ## Instantiating tensors with the feature input set at (20 , 2048) and\n",
    "    ## masking with input set to (20,)\n",
    "    frame_features_input = keras.Input(shape = (max_seq, num_features))\n",
    "    mask_input = keras.Input(shape = (max_seq,), dtype=\"bool\")\n",
    "\n",
    "    ## The second argument is the [samples , timesteps]\n",
    "    x = GRU(16,  activation=\"tanh\" ,return_sequences=True)(frame_features_input, mask=mask_input)\n",
    "    x = GRU(8 , activation=\"tanh\")(x)\n",
    "    x = Dropout(0.4)(x)\n",
    "    x = Dense(8, activation=\"relu\")(x)\n",
    "    \n",
    "    output = Dense(len(class_vocab), activation=\"softmax\")(x)\n",
    "\n",
    "    rnn_model = keras.Model([frame_features_input, mask_input], output)\n",
    "\n",
    "    ## loss is set to sparse categorical crossentropy to deal with multiclassification problem\n",
    "    ##########\n",
    "    opt = keras.optimizers.Adadelta(learning_rate= 0.01)\n",
    "    #########\n",
    "    \n",
    "    rnn_model.compile(\n",
    "        loss=\"sparse_categorical_crossentropy\", optimizer=opt, metrics=[\"accuracy\"]\n",
    "    )\n",
    "    return rnn_model\n",
    "\n",
    "gru_mod = GRU_model()\n",
    "csv_logger = CSVLogger(\"adadelta_history_log.csv\", append=True)\n",
    "gru_mod.fit(\n",
    "        [df_train_proc[0], df_train_proc[1]],\n",
    "        video_labels,\n",
    "        validation_split=0.2,\n",
    "        epochs=EPOCHS,\n",
    "        callbacks=[csv_logger]\n",
    "    )"
   ]
  },
  {
   "cell_type": "markdown",
   "id": "ff75e2d6",
   "metadata": {},
   "source": [
    "**(c) Hyperparameters Tweaking on Final Model**\n",
    "\n",
    "Using 3 learning Rates ie.e 0.01, 0.05 and 0.08"
   ]
  },
  {
   "cell_type": "code",
   "execution_count": 98,
   "id": "7a424aa3",
   "metadata": {},
   "outputs": [
    {
     "name": "stdout",
     "output_type": "stream",
     "text": [
      "Epoch 1/10\n",
      "4/4 [==============================] - 1s 207ms/step - loss: 2.1965 - accuracy: 0.2500 - val_loss: 2.1982 - val_accuracy: 0.1923\n",
      "Epoch 2/10\n",
      "4/4 [==============================] - 1s 159ms/step - loss: 2.1965 - accuracy: 0.2500 - val_loss: 2.1983 - val_accuracy: 0.1923\n",
      "Epoch 3/10\n",
      "4/4 [==============================] - 1s 205ms/step - loss: 2.1965 - accuracy: 0.2500 - val_loss: 2.1983 - val_accuracy: 0.1923\n",
      "Epoch 4/10\n",
      "4/4 [==============================] - 1s 207ms/step - loss: 2.1965 - accuracy: 0.2500 - val_loss: 2.1983 - val_accuracy: 0.1923\n",
      "Epoch 5/10\n",
      "4/4 [==============================] - 1s 215ms/step - loss: 2.1965 - accuracy: 0.2500 - val_loss: 2.1984 - val_accuracy: 0.1923\n",
      "Epoch 6/10\n",
      "4/4 [==============================] - 1s 184ms/step - loss: 2.1964 - accuracy: 0.2500 - val_loss: 2.1984 - val_accuracy: 0.1923\n",
      "Epoch 7/10\n",
      "4/4 [==============================] - 1s 210ms/step - loss: 2.1964 - accuracy: 0.2500 - val_loss: 2.1984 - val_accuracy: 0.1923\n",
      "Epoch 8/10\n",
      "4/4 [==============================] - 1s 161ms/step - loss: 2.1964 - accuracy: 0.2500 - val_loss: 2.1985 - val_accuracy: 0.1923\n",
      "Epoch 9/10\n",
      "4/4 [==============================] - 1s 238ms/step - loss: 2.1964 - accuracy: 0.2500 - val_loss: 2.1985 - val_accuracy: 0.1923\n",
      "Epoch 10/10\n",
      "4/4 [==============================] - 1s 195ms/step - loss: 2.1963 - accuracy: 0.2500 - val_loss: 2.1986 - val_accuracy: 0.1923\n"
     ]
    },
    {
     "data": {
      "text/plain": [
       "<keras.callbacks.History at 0x172c2721d90>"
      ]
     },
     "execution_count": 98,
     "metadata": {},
     "output_type": "execute_result"
    }
   ],
   "source": [
    "# Gated Recurrent Unit\n",
    "def GRU_model():\n",
    "    class_vocab = enc_layer.get_vocabulary()\n",
    "    \n",
    "    ## Instantiating tensors with the feature input set at (20 , 2048) and\n",
    "    ## masking with input set to (20,)\n",
    "    frame_features_input = keras.Input(shape = (max_seq, num_features))\n",
    "    mask_input = keras.Input(shape = (max_seq,), dtype=\"bool\")\n",
    "\n",
    "    ## The second argument is the [samples , timesteps]\n",
    "    x = GRU(16,  activation=\"tanh\" ,return_sequences=True)(frame_features_input, mask=mask_input)\n",
    "    x = GRU(8 , activation=\"tanh\")(x)\n",
    "    x = Dropout(0.4)(x)\n",
    "    x = Dense(8, activation=\"relu\")(x)\n",
    "    \n",
    "    output = Dense(len(class_vocab), activation=\"softmax\")(x)\n",
    "\n",
    "    rnn_model = keras.Model([frame_features_input, mask_input], output)\n",
    "\n",
    "    ## loss is set to sparse categorical crossentropy to deal with multiclassification problem\n",
    "    ##########\n",
    "    opt = keras.optimizers.Adam(lr= 0.01)\n",
    "    #########\n",
    "    \n",
    "    rnn_model.compile(\n",
    "        loss=\"sparse_categorical_crossentropy\", optimizer=opt, metrics=[\"accuracy\"]\n",
    "    )\n",
    "    return rnn_model\n",
    "\n",
    "gru_mod.fit(\n",
    "        [df_train_proc[0], df_train_proc[1]],\n",
    "        video_labels,\n",
    "        validation_split=0.2,\n",
    "        epochs=EPOCHS\n",
    "    )"
   ]
  },
  {
   "cell_type": "code",
   "execution_count": 96,
   "id": "59d2b144",
   "metadata": {},
   "outputs": [
    {
     "name": "stdout",
     "output_type": "stream",
     "text": [
      "Epoch 1/10\n",
      "4/4 [==============================] - 1s 206ms/step - loss: 2.1970 - accuracy: 0.2500 - val_loss: 2.1976 - val_accuracy: 0.1923\n",
      "Epoch 2/10\n",
      "4/4 [==============================] - 1s 232ms/step - loss: 2.1970 - accuracy: 0.2500 - val_loss: 2.1976 - val_accuracy: 0.1923\n",
      "Epoch 3/10\n",
      "4/4 [==============================] - 1s 243ms/step - loss: 2.1970 - accuracy: 0.2500 - val_loss: 2.1976 - val_accuracy: 0.1923\n",
      "Epoch 4/10\n",
      "4/4 [==============================] - 1s 180ms/step - loss: 2.1969 - accuracy: 0.2500 - val_loss: 2.1977 - val_accuracy: 0.1923\n",
      "Epoch 5/10\n",
      "4/4 [==============================] - 1s 132ms/step - loss: 2.1969 - accuracy: 0.2500 - val_loss: 2.1977 - val_accuracy: 0.1923\n",
      "Epoch 6/10\n",
      "4/4 [==============================] - 1s 205ms/step - loss: 2.1969 - accuracy: 0.2500 - val_loss: 2.1977 - val_accuracy: 0.1923\n",
      "Epoch 7/10\n",
      "4/4 [==============================] - 1s 127ms/step - loss: 2.1969 - accuracy: 0.2500 - val_loss: 2.1978 - val_accuracy: 0.1923\n",
      "Epoch 8/10\n",
      "4/4 [==============================] - 1s 304ms/step - loss: 2.1968 - accuracy: 0.2500 - val_loss: 2.1978 - val_accuracy: 0.1923\n",
      "Epoch 9/10\n",
      "4/4 [==============================] - 1s 238ms/step - loss: 2.1968 - accuracy: 0.2500 - val_loss: 2.1978 - val_accuracy: 0.1923\n",
      "Epoch 10/10\n",
      "4/4 [==============================] - 1s 140ms/step - loss: 2.1968 - accuracy: 0.2500 - val_loss: 2.1978 - val_accuracy: 0.1923\n"
     ]
    },
    {
     "data": {
      "text/plain": [
       "<keras.callbacks.History at 0x172c266d6a0>"
      ]
     },
     "execution_count": 96,
     "metadata": {},
     "output_type": "execute_result"
    }
   ],
   "source": [
    "# Gated Recurrent Unit\n",
    "def GRU_model():\n",
    "    class_vocab = enc_layer.get_vocabulary()\n",
    "    \n",
    "    ## Instantiating tensors with the feature input set at (20 , 2048) and\n",
    "    ## masking with input set to (20,)\n",
    "    frame_features_input = keras.Input(shape = (max_seq, num_features))\n",
    "    mask_input = keras.Input(shape = (max_seq,), dtype=\"bool\")\n",
    "\n",
    "    ## The second argument is the [samples , timesteps]\n",
    "    x = GRU(16,  activation=\"tanh\" ,return_sequences=True)(frame_features_input, mask=mask_input)\n",
    "    x = GRU(8 , activation=\"tanh\")(x)\n",
    "    x = Dropout(0.4)(x)\n",
    "    x = Dense(8, activation=\"relu\")(x)\n",
    "    \n",
    "    output = Dense(len(class_vocab), activation=\"softmax\")(x)\n",
    "\n",
    "    rnn_model = keras.Model([frame_features_input, mask_input], output)\n",
    "\n",
    "    ## loss is set to sparse categorical crossentropy to deal with multiclassification problem\n",
    "    ##########\n",
    "    opt = keras.optimizers.Adam(lr= 0.05)\n",
    "    #########\n",
    "    \n",
    "    rnn_model.compile(\n",
    "        loss=\"sparse_categorical_crossentropy\", optimizer=\"adam\", metrics=[\"accuracy\"]\n",
    "    )\n",
    "    return rnn_model\n",
    "\n",
    "gru_mod.fit(\n",
    "        [df_train_proc[0], df_train_proc[1]],\n",
    "        video_labels,\n",
    "        validation_split=0.2,\n",
    "        epochs=EPOCHS\n",
    "    )"
   ]
  },
  {
   "cell_type": "code",
   "execution_count": 97,
   "id": "a8c1c17c",
   "metadata": {},
   "outputs": [
    {
     "name": "stdout",
     "output_type": "stream",
     "text": [
      "Epoch 1/10\n",
      "4/4 [==============================] - 1s 241ms/step - loss: 2.1968 - accuracy: 0.2500 - val_loss: 2.1979 - val_accuracy: 0.1923\n",
      "Epoch 2/10\n",
      "4/4 [==============================] - 1s 287ms/step - loss: 2.1968 - accuracy: 0.2500 - val_loss: 2.1979 - val_accuracy: 0.1923\n",
      "Epoch 3/10\n",
      "4/4 [==============================] - 1s 306ms/step - loss: 2.1967 - accuracy: 0.2500 - val_loss: 2.1979 - val_accuracy: 0.1923\n",
      "Epoch 4/10\n",
      "4/4 [==============================] - 1s 307ms/step - loss: 2.1967 - accuracy: 0.2500 - val_loss: 2.1980 - val_accuracy: 0.1923\n",
      "Epoch 5/10\n",
      "4/4 [==============================] - 1s 354ms/step - loss: 2.1967 - accuracy: 0.2500 - val_loss: 2.1980 - val_accuracy: 0.1923\n",
      "Epoch 6/10\n",
      "4/4 [==============================] - 1s 240ms/step - loss: 2.1967 - accuracy: 0.2500 - val_loss: 2.1981 - val_accuracy: 0.1923\n",
      "Epoch 7/10\n",
      "4/4 [==============================] - 1s 194ms/step - loss: 2.1966 - accuracy: 0.2500 - val_loss: 2.1981 - val_accuracy: 0.1923\n",
      "Epoch 8/10\n",
      "4/4 [==============================] - 1s 204ms/step - loss: 2.1966 - accuracy: 0.2500 - val_loss: 2.1981 - val_accuracy: 0.1923\n",
      "Epoch 9/10\n",
      "4/4 [==============================] - 1s 179ms/step - loss: 2.1966 - accuracy: 0.2500 - val_loss: 2.1982 - val_accuracy: 0.1923\n",
      "Epoch 10/10\n",
      "4/4 [==============================] - 1s 244ms/step - loss: 2.1966 - accuracy: 0.2500 - val_loss: 2.1982 - val_accuracy: 0.1923\n"
     ]
    },
    {
     "data": {
      "text/plain": [
       "<keras.callbacks.History at 0x172c26d38e0>"
      ]
     },
     "execution_count": 97,
     "metadata": {},
     "output_type": "execute_result"
    }
   ],
   "source": [
    "# Gated Recurrent Unit\n",
    "def GRU_model():\n",
    "    class_vocab = enc_layer.get_vocabulary()\n",
    "    \n",
    "    ## Instantiating tensors with the feature input set at (20 , 2048) and\n",
    "    ## masking with input set to (20,)\n",
    "    frame_features_input = keras.Input(shape = (max_seq, num_features))\n",
    "    mask_input = keras.Input(shape = (max_seq,), dtype=\"bool\")\n",
    "\n",
    "    ## The second argument is the [samples , timesteps]\n",
    "    x = GRU(16,  activation=\"tanh\" ,return_sequences=True)(frame_features_input, mask=mask_input)\n",
    "    x = GRU(8 , activation=\"tanh\")(x)\n",
    "    x = Dropout(0.4)(x)\n",
    "    x = Dense(8, activation=\"relu\")(x)\n",
    "    \n",
    "    output = Dense(len(class_vocab), activation=\"softmax\")(x)\n",
    "\n",
    "    rnn_model = keras.Model([frame_features_input, mask_input], output)\n",
    "\n",
    "    ## loss is set to sparse categorical crossentropy to deal with multiclassification problem\n",
    "    ##########\n",
    "    opt = keras.optimizers.Adam(lr= 0.08)\n",
    "    #########\n",
    "    \n",
    "    rnn_model.compile(\n",
    "        loss=\"sparse_categorical_crossentropy\", optimizer=\"adam\", metrics=[\"accuracy\"]\n",
    "    )\n",
    "    return rnn_model\n",
    "\n",
    "gru_mod.fit(\n",
    "        [df_train_proc[0], df_train_proc[1]],\n",
    "        video_labels,\n",
    "        validation_split=0.2,\n",
    "        epochs=EPOCHS\n",
    "    )"
   ]
  },
  {
   "cell_type": "code",
   "execution_count": null,
   "id": "b0c4f5b8",
   "metadata": {},
   "outputs": [],
   "source": []
  },
  {
   "cell_type": "code",
   "execution_count": null,
   "id": "cc71df65",
   "metadata": {},
   "outputs": [],
   "source": []
  },
  {
   "cell_type": "markdown",
   "id": "16bb9812",
   "metadata": {},
   "source": [
    "**(d) Analysis**\n",
    "\n",
    "After training both the GRU and LSTM model on the data, we found that neither was performing well on the data. The accuracy that we got on the training data was a mere 25% and 19% on the validation data which is quite low. Both these method seem to be performing quite similar which would lead us to choose the GRU as the better option due to its advantage in terms of time complexity.\n",
    "\n",
    "When we changed the CNN model to 'resnet50' and 'inception_v3', we got the same results as before with the 'vgg16' model in terms of model training. Howeer, when we attempted to predict the same test video using these different CNN structures, there was a slight change in the overall predictive results albeit negligible. \n",
    "\n",
    "In lieu, of both these observations, the most probable reason for the inaccuracy of the results stems from the fact that the dataset is simply too small and not balanced which is compromising our model. Moreover, additional tweaking of the layers and hyperparameters inside the CNN models might improve our results further.\n",
    "\n",
    "The best model we have will have the following main components:\n",
    "\n",
    "1. CNN 'resnet50' (Though not much difference against the other 2 models as well)\n",
    "2. RNN with GRU due to better time complexity against LSTM layer\n",
    "3. Optimizer set to Adam\n",
    "4. Learning Rate 0.08"
   ]
  },
  {
   "cell_type": "markdown",
   "id": "03c6d26c",
   "metadata": {},
   "source": [
    "## 13. Conclusion"
   ]
  },
  {
   "cell_type": "markdown",
   "id": "1a2c0d94",
   "metadata": {},
   "source": [
    "This was a fairly simple approach to classify a video which followed the breaking of video of frames, then extracting the features through CNN and passsing it through the RNN to make a final prediction. The important takeaways from the project are listed as follows:\n",
    "\n",
    "1. Dividing a video into frames\n",
    "2. Using Transfer Learning techniques to extract features\n",
    "3. Importance of Masking for sequence models like RNN\n",
    "4. Need for balancing of datasets\n",
    "5. Need for tweaking of parameters and hyperparameters inside imported models\n",
    "\n",
    "In future, the basic model that we designed may be improved by integrating techniques such as data augmentation to enhance our ability to extract features from each frame. Moreover, the transfer learning models might also be optimized by tuning the hyperparameters further."
   ]
  },
  {
   "cell_type": "markdown",
   "id": "ce430a02",
   "metadata": {},
   "source": [
    "## 14. References\n",
    "\n",
    "1. https://keras.io/api/layers/preprocessing_layers/categorical/string_lookup/\n",
    "2. https://keras.io/api/layers/preprocessing_layers/categorical/category_encoding/\n",
    "3. https://keras.io/api/applications/vgg/#vgg16-function\n",
    "4. https://keras.io/api/applications/#extract-features-with-vgg16\n",
    "5. https://keras.io/examples/vision/video_classification/\n",
    "6. https://keras.io/api/layers/recurrent_layers/gru/\n",
    "7. https://www.tensorflow.org/guide/keras/masking_and_padding"
   ]
  }
 ],
 "metadata": {
  "kernelspec": {
   "display_name": "Python 3 (ipykernel)",
   "language": "python",
   "name": "python3"
  },
  "language_info": {
   "codemirror_mode": {
    "name": "ipython",
    "version": 3
   },
   "file_extension": ".py",
   "mimetype": "text/x-python",
   "name": "python",
   "nbconvert_exporter": "python",
   "pygments_lexer": "ipython3",
   "version": "3.9.7"
  }
 },
 "nbformat": 4,
 "nbformat_minor": 5
}
